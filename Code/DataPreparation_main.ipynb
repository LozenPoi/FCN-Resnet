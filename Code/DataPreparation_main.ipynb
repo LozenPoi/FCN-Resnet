{
 "cells": [
  {
   "cell_type": "code",
   "execution_count": 1,
   "metadata": {},
   "outputs": [],
   "source": [
    "import cityscapes\n",
    "from torch.utils.data import DataLoader\n",
    "import utils.transforms as extended_transforms"
   ]
  },
  {
   "cell_type": "code",
   "execution_count": 2,
   "metadata": {
    "collapsed": true
   },
   "outputs": [],
   "source": [
    "args = {\n",
    "    'batch_size': 16,\n",
    "    'num_workers': 8,\n",
    "    \n",
    "}"
   ]
  },
  {
   "cell_type": "code",
   "execution_count": 3,
   "metadata": {},
   "outputs": [],
   "source": [
    "train_simul_transform = None\n",
    "input_transform = None\n",
    "target_transform = extended_transforms.MaskToTensor() \n",
    "trainset = cityscapes.CityScapes(quality = 'fine', mode = 'train', \n",
    "                                 simul_transform = train_simul_transform,\n",
    "                                 transform = input_transform,\n",
    "                                 target_transform = target_transform)\n",
    "trainLoader = DataLoader(trainset, batch_size = args['batch_size'], shuffle = True, \n",
    "                         num_workers = args['num_workers'] )\n",
    "\n",
    "\n",
    "val_simul_transform = None\n",
    "valset = cityscapes.CityScapes('fine', 'val', \n",
    "                               simul_transform = val_simul_transform, \n",
    "                               transform = input_transform,\n",
    "                               target_transform = target_transform)\n",
    "valLoader = DataLoader(valset, batch_size = args['batch_size'], shuffle=False,\n",
    "                       num_workers = args['num_workers'])"
   ]
  },
  {
   "cell_type": "code",
   "execution_count": null,
   "metadata": {},
   "outputs": [],
   "source": []
  },
  {
   "cell_type": "code",
   "execution_count": null,
   "metadata": {
    "collapsed": true
   },
   "outputs": [],
   "source": []
  }
 ],
 "metadata": {
  "kernelspec": {
   "display_name": "Python [conda env:py27]",
   "language": "python",
   "name": "conda-env-py27-py"
  },
  "language_info": {
   "codemirror_mode": {
    "name": "ipython",
    "version": 2
   },
   "file_extension": ".py",
   "mimetype": "text/x-python",
   "name": "python",
   "nbconvert_exporter": "python",
   "pygments_lexer": "ipython2",
   "version": "2.7.13"
  }
 },
 "nbformat": 4,
 "nbformat_minor": 2
}
