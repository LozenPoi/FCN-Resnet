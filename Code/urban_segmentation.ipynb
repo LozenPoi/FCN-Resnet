{
 "cells": [
  {
   "cell_type": "code",
   "execution_count": 1,
   "metadata": {},
   "outputs": [],
   "source": [
    "from utils import lab_utils\n",
    "from utils import transforms2 as extended_transforms\n",
    "from utils import joint_transforms as joint_transforms\n",
    "\n",
    "import torch\n",
    "import torchvision.transforms as transforms\n",
    "from torch.autograd import Variable\n",
    "import torch.nn as nn \n",
    "import torch.optim as optim\n",
    "import torchvision.models as models\n",
    "import torch.nn.functional as F\n",
    "import matplotlib.pyplot as plt\n",
    "from PIL import Image\n",
    "import json, string\n",
    "from torch.utils import data\n",
    "import numpy as np\n",
    "import os\n",
    "\n",
    "%matplotlib inline"
   ]
  },
  {
   "cell_type": "code",
   "execution_count": 2,
   "metadata": {},
   "outputs": [],
   "source": [
    "# Define the data loader.\n",
    "n_classes = 19\n",
    "ignore_label = 255\n",
    "root = 'dataset'\n",
    "\n",
    "def obtain_dir(mode, root):\n",
    "    # \"mode\" can be \"train\", \"test\", or \"val\".\n",
    "    mask_path = os.path.join(root, 'gtFine', mode)\n",
    "    img_path = os.path.join(root, 'leftImg8bit', mode)\n",
    "    # The only difference between mask and image names are postfix.\n",
    "    mask_postfix = '_gtFine_labelIds.png'\n",
    "    # Get paths for all of 8-bit images and corresponding masks.\n",
    "    items = []\n",
    "    categories = os.listdir(img_path)\n",
    "    for c in categories:\n",
    "        c_items = [name.split('_leftImg8bit.png')[0] for name in os.listdir(os.path.join(img_path, c))]\n",
    "        for it in c_items:\n",
    "            item = (os.path.join(img_path, c, it + '_leftImg8bit.png'), os.path.join(mask_path, c, it + mask_postfix))\n",
    "            items.append(item)\n",
    "    # Return a set of tuples.\n",
    "    return items\n",
    "\n",
    "\n",
    "class CityScapes(data.Dataset):\n",
    "    def __init__(self, mode, root, transform=None, target_transform=None,joint_transform=None):\n",
    "        self.imgs = obtain_dir(mode, root)\n",
    "        self.joint_transform = joint_transform\n",
    "        self.transform = transform\n",
    "        self.target_transform = target_transform\n",
    "        # Only care about 19 classes. See the dataset paper for details.\n",
    "        self.id_to_trainid = {-1: ignore_label, 0: ignore_label, 1: ignore_label, 2: ignore_label,\n",
    "                              3: ignore_label, 4: ignore_label, 5: ignore_label, 6: ignore_label,\n",
    "                              7: 0, 8: 1, 9: ignore_label, 10: ignore_label, 11: 2, 12: 3, 13: 4,\n",
    "                              14: ignore_label, 15: ignore_label, 16: ignore_label, 17: 5,\n",
    "                              18: ignore_label, 19: 6, 20: 7, 21: 8, 22: 9, 23: 10, 24: 11, 25: 12, 26: 13, 27: 14,\n",
    "                              28: 15, 29: ignore_label, 30: ignore_label, 31: 16, 32: 17, 33: 18}\n",
    "\n",
    "    def __getitem__(self, index):\n",
    "        img_path, mask_path = self.imgs[index]\n",
    "        img, mask = Image.open(img_path).convert('RGB'), Image.open(mask_path)\n",
    "\n",
    "        mask = np.array(mask)\n",
    "        mask_copy = mask.copy()\n",
    "        for k, v in self.id_to_trainid.items():\n",
    "            mask_copy[mask == k] = v\n",
    "        mask = Image.fromarray(mask_copy.astype(np.uint8))\n",
    "        \n",
    "        if self.joint_transform is not None:\n",
    "            img, mask = self.joint_transform(img, mask)\n",
    "        \n",
    "        if self.transform is not None:\n",
    "            img = self.transform(img)\n",
    "        if self.target_transform is not None:\n",
    "            mask = self.target_transform(mask)\n",
    "\n",
    "        return img, mask\n",
    "\n",
    "    def __len__(self):\n",
    "        return len(self.imgs)"
   ]
  },
  {
   "cell_type": "code",
   "execution_count": 3,
   "metadata": {},
   "outputs": [],
   "source": [
    "# In order to show segmentations in different colors.\n",
    "palette = [128, 64, 128, 244, 35, 232, 70, 70, 70, 102, 102, 156, 190, 153, 153, 153, 153, 153, 250, 170, 30,\n",
    "           220, 220, 0, 107, 142, 35, 152, 251, 152, 70, 130, 180, 220, 20, 60, 255, 0, 0, 0, 0, 142, 0, 0, 70,\n",
    "           0, 60, 100, 0, 80, 100, 0, 0, 230, 119, 11, 32]\n",
    "zero_pad = 256 * 3 - len(palette)\n",
    "for i in range(zero_pad):\n",
    "    palette.append(0)\n",
    "\n",
    "def colorize_mask(mask):\n",
    "    new_mask = Image.fromarray(mask.astype(np.uint8)).convert('P')\n",
    "    new_mask.putpalette(palette)\n",
    "    return new_mask"
   ]
  },
  {
   "cell_type": "code",
   "execution_count": 4,
   "metadata": {},
   "outputs": [],
   "source": [
    "# This is a mofified Resnet with deconvolutional layers added.\n",
    "def initialize_weights(*models):\n",
    "    for model in models:\n",
    "        for module in model.modules():\n",
    "            if isinstance(module, nn.Conv2d) or isinstance(module, nn.Linear):\n",
    "                nn.init.kaiming_normal(module.weight)\n",
    "                if module.bias is not None:\n",
    "                    module.bias.data.zero_()\n",
    "            elif isinstance(module, nn.BatchNorm2d):\n",
    "                module.weight.data.fill_(1)\n",
    "                module.bias.data.zero_()\n",
    "\n",
    "class _DecoderBlock(nn.Module):\n",
    "    def __init__(self, in_channels, out_channels, num_conv_layers):\n",
    "        super(_DecoderBlock, self).__init__()\n",
    "        middle_channels = int(in_channels / 2)\n",
    "        layers = [\n",
    "            nn.ConvTranspose2d(in_channels, in_channels, kernel_size=2, stride=2),\n",
    "            nn.Conv2d(in_channels, middle_channels, kernel_size=3, padding=1),\n",
    "            nn.BatchNorm2d(middle_channels),\n",
    "            nn.ReLU(inplace=True)\n",
    "        ]\n",
    "        layers += [\n",
    "                      nn.Conv2d(middle_channels, middle_channels, kernel_size=3, padding=1),\n",
    "                      nn.BatchNorm2d(middle_channels),\n",
    "                      nn.ReLU(inplace=True),\n",
    "                  ] * (num_conv_layers - 2)\n",
    "        layers += [\n",
    "            nn.Conv2d(middle_channels, out_channels, kernel_size=3, padding=1),\n",
    "            nn.BatchNorm2d(out_channels),\n",
    "            nn.ReLU(inplace=True),\n",
    "        ]\n",
    "        self.decode = nn.Sequential(*layers)\n",
    "\n",
    "    def forward(self, x):\n",
    "        return self.decode(x)\n",
    "\n",
    "\n",
    "class SegNet(nn.Module):\n",
    "    def __init__(self, num_classes, pretrained=True):\n",
    "        super(SegNet, self).__init__()\n",
    "        vgg = models.vgg19_bn()\n",
    "        if pretrained:\n",
    "            vgg.load_state_dict(torch.load(\"vgg19_bn_c79401a0.pth\"))\n",
    "        features = list(vgg.features.children())\n",
    "        self.enc1 = nn.Sequential(*features[0:7])\n",
    "        self.enc2 = nn.Sequential(*features[7:14])\n",
    "        self.enc3 = nn.Sequential(*features[14:27])\n",
    "        self.enc4 = nn.Sequential(*features[27:40])\n",
    "        self.enc5 = nn.Sequential(*features[40:])\n",
    "\n",
    "        self.dec5 = nn.Sequential(\n",
    "            *([nn.ConvTranspose2d(512, 512, kernel_size=2, stride=2)] +\n",
    "              [nn.Conv2d(512, 512, kernel_size=3, padding=1),\n",
    "               nn.BatchNorm2d(512),\n",
    "               nn.ReLU(inplace=True)] * 4)\n",
    "        )\n",
    "        self.dec4 = _DecoderBlock(1024, 256, 4)\n",
    "        self.dec3 = _DecoderBlock(512, 128, 4)\n",
    "        self.dec2 = _DecoderBlock(256, 64, 2)\n",
    "        self.dec1 = _DecoderBlock(128, num_classes, 2)\n",
    "        initialize_weights(self.dec5, self.dec4, self.dec3, self.dec2, self.dec1)\n",
    "\n",
    "    def forward(self, x):\n",
    "        enc1 = self.enc1(x)\n",
    "        enc2 = self.enc2(enc1)\n",
    "        enc3 = self.enc3(enc2)\n",
    "        enc4 = self.enc4(enc3)\n",
    "        enc5 = self.enc5(enc4)\n",
    "\n",
    "        dec5 = self.dec5(enc5)\n",
    "        dec4 = self.dec4(torch.cat([enc4, dec5], 1))\n",
    "        dec3 = self.dec3(torch.cat([enc3, dec4], 1))\n",
    "        dec2 = self.dec2(torch.cat([enc2, dec3], 1))\n",
    "        dec1 = self.dec1(torch.cat([enc1, dec2], 1))\n",
    "        return dec1"
   ]
  },
  {
   "cell_type": "code",
   "execution_count": 5,
   "metadata": {},
   "outputs": [],
   "source": [
    "## FCN-8S\n",
    "\n",
    "class conv2DBatchNormRelu(nn.Module):\n",
    "    def __init__(self, in_channels, n_filters, k_size,  stride, padding, bias=True):\n",
    "        super(conv2DBatchNormRelu, self).__init__()\n",
    "\n",
    "        self.cbr_unit = nn.Sequential(nn.Conv2d(int(in_channels), int(n_filters), kernel_size=k_size,\n",
    "                                                padding=padding, stride=stride, bias=bias),\n",
    "                                 nn.BatchNorm2d(int(n_filters)),\n",
    "                                 nn.ReLU(inplace=True),)\n",
    "\n",
    "    def forward(self, inputs):\n",
    "        outputs = self.cbr_unit(inputs)\n",
    "        return outputs\n",
    "\n",
    "class segnetDown2(nn.Module):\n",
    "    def __init__(self, in_size, out_size):\n",
    "        super(segnetDown2, self).__init__()\n",
    "        self.conv1 = conv2DBatchNormRelu(in_size, out_size, 3, 1, 1)\n",
    "        self.conv2 = conv2DBatchNormRelu(out_size, out_size, 3, 1, 1)\n",
    "        self.maxpool_with_argmax = nn.MaxPool2d(2, 2, return_indices=True)\n",
    "\n",
    "    def forward(self, inputs):\n",
    "        outputs = self.conv1(inputs)\n",
    "        outputs = self.conv2(outputs)\n",
    "        unpooled_shape = outputs.size()\n",
    "        outputs, indices = self.maxpool_with_argmax(outputs)\n",
    "        return outputs, indices, unpooled_shape\n",
    "\n",
    "\n",
    "class segnetDown3(nn.Module):\n",
    "    def __init__(self, in_size, out_size):\n",
    "        super(segnetDown3, self).__init__()\n",
    "        self.conv1 = conv2DBatchNormRelu(in_size, out_size, 3, 1, 1)\n",
    "        self.conv2 = conv2DBatchNormRelu(out_size, out_size, 3, 1, 1)\n",
    "        self.conv3 = conv2DBatchNormRelu(out_size, out_size, 3, 1, 1)\n",
    "        self.maxpool_with_argmax = nn.MaxPool2d(2, 2, return_indices=True)\n",
    "\n",
    "    def forward(self, inputs):\n",
    "        outputs = self.conv1(inputs)\n",
    "        outputs = self.conv2(outputs)\n",
    "        outputs = self.conv3(outputs)\n",
    "        unpooled_shape = outputs.size()\n",
    "        outputs, indices = self.maxpool_with_argmax(outputs)\n",
    "        return outputs, indices, unpooled_shape\n",
    "\n",
    "\n",
    "class segnetUp2(nn.Module):\n",
    "    def __init__(self, in_size, out_size):\n",
    "        super(segnetUp2, self).__init__()\n",
    "        self.unpool = nn.MaxUnpool2d(2, 2)\n",
    "        self.conv1 = conv2DBatchNormRelu(in_size, out_size, 3, 1, 1)\n",
    "        self.conv2 = conv2DBatchNormRelu(out_size, out_size, 3, 1, 1)\n",
    "\n",
    "    def forward(self, inputs, indices, output_shape):\n",
    "        outputs = self.unpool(input=inputs, indices=indices, output_size=output_shape)\n",
    "        outputs = self.conv1(outputs)\n",
    "        outputs = self.conv2(outputs)\n",
    "        return outputs\n",
    "\n",
    "\n",
    "class segnetUp3(nn.Module):\n",
    "    def __init__(self, in_size, out_size):\n",
    "        super(segnetUp3, self).__init__()\n",
    "        self.unpool = nn.MaxUnpool2d(2, 2)\n",
    "        self.conv1 = conv2DBatchNormRelu(in_size, out_size, 3, 1, 1)\n",
    "        self.conv2 = conv2DBatchNormRelu(out_size, out_size, 3, 1, 1)\n",
    "        self.conv3 = conv2DBatchNormRelu(out_size, out_size, 3, 1, 1)\n",
    "\n",
    "    def forward(self, inputs, indices, output_shape):\n",
    "        outputs = self.unpool(input=inputs, indices=indices, output_size=output_shape)\n",
    "        outputs = self.conv1(outputs)\n",
    "        outputs = self.conv2(outputs)\n",
    "        outputs = self.conv3(outputs)\n",
    "        return outputs\n",
    "\n",
    "class segnet2(nn.Module):\n",
    "\n",
    "    def __init__(self, n_classes=19, in_channels=3, is_unpooling=True):\n",
    "        super(segnet2, self).__init__()\n",
    "\n",
    "        self.in_channels = in_channels\n",
    "        self.is_unpooling = is_unpooling\n",
    "\n",
    "        self.down1 = segnetDown2(self.in_channels, 64)\n",
    "        self.down2 = segnetDown2(64, 128)\n",
    "        self.down3 = segnetDown3(128, 256)\n",
    "        self.down4 = segnetDown3(256, 512)\n",
    "        self.down5 = segnetDown3(512, 512)\n",
    "\n",
    "        self.up5 = segnetUp3(512, 512)\n",
    "        self.up4 = segnetUp3(512, 256)\n",
    "        self.up3 = segnetUp3(256, 128)\n",
    "        self.up2 = segnetUp2(128, 64)\n",
    "        self.up1 = segnetUp2(64, n_classes)\n",
    "\n",
    "    def forward(self, inputs):\n",
    "\n",
    "        down1, indices_1, unpool_shape1 = self.down1(inputs)\n",
    "        down2, indices_2, unpool_shape2 = self.down2(down1)\n",
    "        down3, indices_3, unpool_shape3 = self.down3(down2)\n",
    "        down4, indices_4, unpool_shape4 = self.down4(down3)\n",
    "        down5, indices_5, unpool_shape5 = self.down5(down4)\n",
    "\n",
    "        up5 = self.up5(down5, indices_5, unpool_shape5)\n",
    "        up4 = self.up4(up5, indices_4, unpool_shape4)\n",
    "        up3 = self.up3(up4, indices_3, unpool_shape3)\n",
    "        up2 = self.up2(up3, indices_2, unpool_shape2)\n",
    "        up1 = self.up1(up2, indices_1, unpool_shape1)\n",
    "\n",
    "        return up1\n",
    "\n",
    "\n",
    "    def init_vgg16_params(self, vgg16):\n",
    "        blocks = [self.down1,\n",
    "                  self.down2,\n",
    "                  self.down3,\n",
    "                  self.down4,\n",
    "                  self.down5]\n",
    "\n",
    "        ranges = [[0, 4], [5, 9], [10, 16], [17, 23], [24, 29]]\n",
    "        features = list(vgg16.features.children())\n",
    "\n",
    "        vgg_layers = []\n",
    "        for _layer in features:\n",
    "            if isinstance(_layer, nn.Conv2d):\n",
    "                vgg_layers.append(_layer)\n",
    "\n",
    "        merged_layers = []\n",
    "        for idx, conv_block in enumerate(blocks):\n",
    "            if idx < 2:\n",
    "                units = [conv_block.conv1.cbr_unit,\n",
    "                         conv_block.conv2.cbr_unit]\n",
    "            else:\n",
    "                units = [conv_block.conv1.cbr_unit,\n",
    "                         conv_block.conv2.cbr_unit,\n",
    "                         conv_block.conv3.cbr_unit]\n",
    "            for _unit in units:\n",
    "                for _layer in _unit:\n",
    "                    if isinstance(_layer, nn.Conv2d):\n",
    "                        merged_layers.append(_layer)\n",
    "\n",
    "        assert len(vgg_layers) == len(merged_layers)\n",
    "\n",
    "        for l1, l2 in zip(vgg_layers, merged_layers):\n",
    "            if isinstance(l1, nn.Conv2d) and isinstance(l2, nn.Conv2d):\n",
    "                assert l1.weight.size() == l2.weight.size()\n",
    "                assert l1.bias.size() == l2.bias.size()\n",
    "                l2.weight.data = l1.weight.data\n",
    "                l2.bias.data = l1.bias.data"
   ]
  },
  {
   "cell_type": "code",
   "execution_count": 15,
   "metadata": {},
   "outputs": [],
   "source": [
    "import gc\n",
    "from tqdm import tqdm_notebook as tqdm\n",
    "\n",
    "class CrossEntropyLoss2d(nn.Module):\n",
    "    def __init__(self, weight=None, size_average=True, ignore_index=255):\n",
    "        super(CrossEntropyLoss2d, self).__init__()\n",
    "        self.nll_loss = nn.NLLLoss2d(weight, size_average, ignore_index)\n",
    "    def forward(self, inputs, targets):\n",
    "        return self.nll_loss(F.log_softmax(inputs), targets.long())\n",
    "\n",
    "class CrossEntropy2d(nn.Module):\n",
    "\n",
    "    def __init__(self, size_average=True, ignore_label=255):\n",
    "        super(CrossEntropy2d, self).__init__()\n",
    "        self.size_average = size_average\n",
    "        self.ignore_label = ignore_label\n",
    "\n",
    "    def forward(self, predict, target, weight=None):\n",
    "        \"\"\"\n",
    "            Args:\n",
    "                predict:(n, c, h, w)\n",
    "                target:(n, h, w)\n",
    "                weight (Tensor, optional): a manual rescaling weight given to each class.\n",
    "                                           If given, has to be a Tensor of size \"nclasses\"\n",
    "        \"\"\"\n",
    "        target = target.long()\n",
    "        n, c, h, w = predict.size()\n",
    "        target_mask = (target >= 0) * (target != self.ignore_label)\n",
    "        target = target[target_mask]\n",
    "        predict = predict.transpose(1, 2).transpose(2, 3).contiguous()\n",
    "        predict = predict[target_mask.view(n, h, w, 1).repeat(1, 1, 1, c)].view(-1, c)\n",
    "        loss = F.cross_entropy(predict, target, weight=weight, size_average=self.size_average)\n",
    "        return loss    \n",
    "\n",
    "# These are used to record loss and accuracy data for further plots.\n",
    "loss_train = np.zeros(10)\n",
    "loss_validate = np.zeros(10)\n",
    "\n",
    "# Define the training function.\n",
    "def train_model(network, criterion, optimizer, trainLoader, valLoader, n_epochs = 10, use_gpu = False):\n",
    "    if use_gpu:\n",
    "        #network = torch.nn.DataParallel(network, device_ids=[0, 1])\n",
    "        network = network.cuda()\n",
    "        criterion = criterion.cuda()\n",
    "        \n",
    "    # Training loop.\n",
    "    for epoch in range(0, n_epochs):\n",
    "        \n",
    "        cum_loss = 0.0\n",
    "        gc.collect()\n",
    "\n",
    "        # Make a pass over the training data.\n",
    "        t = tqdm(trainLoader, desc = 'Training epoch %d' % epoch)\n",
    "        network.train()  # This is important to call before training!\n",
    "        for (i, (inputs, labels)) in enumerate(t):\n",
    "            \n",
    "            gc.collect()\n",
    "\n",
    "            # Wrap inputs, and targets into torch.autograd.Variable types.\n",
    "            inputs = Variable(inputs)\n",
    "            labels = labels.view(labels.size(0),labels.size(2), labels.size(3)) # To satisfy \"CrossEntropyLoss2d\"\n",
    "            labels = Variable(labels)\n",
    "            if use_gpu:\n",
    "                inputs = inputs.cuda()\n",
    "                labels = labels.cuda()\n",
    "\n",
    "            # Forward pass:\n",
    "            outputs = network(inputs)\n",
    "            loss = criterion(outputs, labels)\n",
    "\n",
    "            # Backward pass:\n",
    "            optimizer.zero_grad()\n",
    "            loss.backward() \n",
    "            optimizer.step()\n",
    "\n",
    "            # logging information.\n",
    "            cum_loss += loss.data[0]\n",
    "            t.set_postfix(loss = cum_loss/(i+1))\n",
    "        \n",
    "        # Record data for plotting figures.\n",
    "        loss_train[epoch] = cum_loss/(i+1)\n",
    "        \n",
    "        # Make a pass over the validation data.\n",
    "        cum_loss = 0.0\n",
    "        t = tqdm(valLoader, desc = 'Validation epoch %d' % epoch)\n",
    "        network.eval()  # This is important to call before evaluating!\n",
    "        for (i, (inputs, labels)) in enumerate(t):\n",
    "\n",
    "            gc.collect()\n",
    "            # Wrap inputs, and targets into torch.autograd.Variable types.\n",
    "            inputs = Variable(inputs,volatile=True)\n",
    "            labels = labels.view(labels.size(0),labels.size(2), labels.size(3)) # To satisfy \"CrossEntropyLoss2d\"\n",
    "            labels = Variable(labels,volatile=True)\n",
    "            \n",
    "            if use_gpu:\n",
    "                inputs = inputs.cuda()\n",
    "                labels = labels.cuda()\n",
    "\n",
    "            # Forward pass:\n",
    "            outputs = network(inputs)\n",
    "            loss = criterion(outputs, labels)\n",
    "\n",
    "            # logging information.\n",
    "            cum_loss += loss.data[0]\n",
    "            t.set_postfix(loss = cum_loss/(i+1))\n",
    "            \n",
    "        # Record data for plotting figures.\n",
    "        loss_validate[epoch] = cum_loss/(i+1)"
   ]
  },
  {
   "cell_type": "code",
   "execution_count": 7,
   "metadata": {},
   "outputs": [],
   "source": [
    "# Load the fine-annotated Cityscapes dataset.\n",
    "mean_std = ([103.939, 116.779, 123.68], [1.0, 1.0, 1.0])\n",
    "\n",
    "imgTransform = transforms.Compose([extended_transforms.FlipChannels(),\n",
    "                                   transforms.ToTensor(),\n",
    "                                   transforms.Normalize(*mean_std),\n",
    "                                   transforms.Lambda(lambda x: x.mul_(255))])\n",
    "#transforms.Scale((64,32)),\n",
    "\n",
    "target_transform = transforms.Compose([transforms.ToTensor()])\n",
    "#transforms.Scale((64,32),Image.NEAREST),\n",
    "\n",
    "args = {\n",
    "    'train_batch_size': 12,\n",
    "    'epoch_num': 500,\n",
    "    'lr': 1e-10,\n",
    "    'weight_decay': 5e-4,\n",
    "    'input_size': (32, 64),\n",
    "    'momentum': 0.99,\n",
    "    'lr_patience': 100,  # large patience denotes fixed lr\n",
    "    'snapshot': '',  # empty string denotes no snapshot\n",
    "    'print_freq': 20,\n",
    "    'val_batch_size': 16,\n",
    "    'val_save_to_img_file': False,\n",
    "    'val_img_sample_rate': 0.05  # randomly sample some validation results to display\n",
    "}\n",
    "\n",
    "short_size = int(min(args['input_size']) / 0.875)\n",
    "\n",
    "train_joint_transform = joint_transforms.Compose([\n",
    "        joint_transforms.Scale(short_size),\n",
    "        joint_transforms.RandomCrop(args['input_size']),\n",
    "        joint_transforms.RandomHorizontallyFlip()\n",
    "])\n",
    "\n",
    "val_joint_transform = joint_transforms.Compose([\n",
    "        joint_transforms.Scale(short_size),\n",
    "        joint_transforms.CenterCrop(args['input_size'])\n",
    "])\n",
    "\n",
    "\n",
    "trainset = CityScapes(mode = 'train', root = 'dataset',transform = imgTransform,\n",
    "                      target_transform = target_transform,joint_transform=train_joint_transform)\n",
    "trainLoader = torch.utils.data.DataLoader(trainset, batch_size = 10, shuffle = True, num_workers = 0)\n",
    "\n",
    "valset = CityScapes(mode = 'val', root = 'dataset', transform = imgTransform,\n",
    "                    target_transform = target_transform,joint_transform=val_joint_transform)\n",
    "valLoader = torch.utils.data.DataLoader(valset, batch_size = 10, shuffle = False, num_workers = 0)"
   ]
  },
  {
   "cell_type": "code",
   "execution_count": 8,
   "metadata": {},
   "outputs": [
    {
     "data": {
      "image/png": "[encoded data removed]",
      "text/plain": [
       "<IPython.core.display.Image object>"
      ]
     },
     "metadata": {},
     "output_type": "display_data"
    },
    {
     "data": {
      "image/png": "[encoded data removed]",
      "text/plain": [
       "<IPython.core.display.Image object>"
      ]
     },
     "metadata": {},
     "output_type": "display_data"
    }
   ],
   "source": [
    "# This is for test only.\n",
    "un_normalize = lab_utils.UnNormalize((0.4914, 0.4822, 0.4465), \n",
    "                                     (0.2023, 0.1994, 0.2010))\n",
    "\n",
    "restore_transform = transforms.Compose([\n",
    "        transforms.Lambda(lambda x: x.div_(255)),\n",
    "        extended_transforms.DeNormalize(*mean_std),\n",
    "        transforms.ToPILImage(),\n",
    "        extended_transforms.FlipChannels()\n",
    "])\n",
    "\n",
    "img, mask = valset[1]\n",
    "lab_utils.show_image(restore_transform(img));\n",
    "lab_utils.show_image(colorize_mask(np.array(lab_utils.tensor2pil(mask))));"
   ]
  },
  {
   "cell_type": "code",
   "execution_count": 16,
   "metadata": {},
   "outputs": [
    {
     "data": {
      "application/vnd.jupyter.widget-view+json": {
       "model_id": "2839391f46f0409bb20fcbf926e7dc1e",
       "version_major": 2,
       "version_minor": 0
      },
      "text/html": [
       "<p>Failed to display Jupyter Widget of type <code>HBox</code>.</p>\n",
       "<p>\n",
       "  If you're reading this message in Jupyter Notebook or JupyterLab, it may mean\n",
       "  that the widgets JavaScript is still loading. If this message persists, it\n",
       "  likely means that the widgets JavaScript library is either not installed or\n",
       "  not enabled. See the <a href=\"https://ipywidgets.readthedocs.io/en/stable/user_install.html\">Jupyter\n",
       "  Widgets Documentation</a> for setup instructions.\n",
       "</p>\n",
       "<p>\n",
       "  If you're reading this message in another notebook frontend (for example, a static\n",
       "  rendering on GitHub or <a href=\"https://nbviewer.jupyter.org/\">NBViewer</a>),\n",
       "  it may mean that your frontend doesn't currently support widgets.\n",
       "</p>\n"
      ],
      "text/plain": [
       "HBox(children=(IntProgress(value=0, description='Training epoch 0', max=298), HTML(value='')))"
      ]
     },
     "metadata": {},
     "output_type": "display_data"
    },
    {
     "name": "stdout",
     "output_type": "stream",
     "text": [
      "297/|/100%|| 297/298 [08:12<00:01,  1.66s/it, loss=4.77e+04]"
     ]
    },
    {
     "data": {
      "application/vnd.jupyter.widget-view+json": {
       "model_id": "a988884a03cd4b5c8f60876c03c80af9",
       "version_major": 2,
       "version_minor": 0
      },
      "text/html": [
       "<p>Failed to display Jupyter Widget of type <code>HBox</code>.</p>\n",
       "<p>\n",
       "  If you're reading this message in Jupyter Notebook or JupyterLab, it may mean\n",
       "  that the widgets JavaScript is still loading. If this message persists, it\n",
       "  likely means that the widgets JavaScript library is either not installed or\n",
       "  not enabled. See the <a href=\"https://ipywidgets.readthedocs.io/en/stable/user_install.html\">Jupyter\n",
       "  Widgets Documentation</a> for setup instructions.\n",
       "</p>\n",
       "<p>\n",
       "  If you're reading this message in another notebook frontend (for example, a static\n",
       "  rendering on GitHub or <a href=\"https://nbviewer.jupyter.org/\">NBViewer</a>),\n",
       "  it may mean that your frontend doesn't currently support widgets.\n",
       "</p>\n"
      ],
      "text/plain": [
       "HBox(children=(IntProgress(value=0, description='Validation epoch 0', max=50), HTML(value='')))"
      ]
     },
     "metadata": {},
     "output_type": "display_data"
    },
    {
     "name": "stdout",
     "output_type": "stream",
     "text": [
      "49/|/ 98%|| 49/50 [01:07<00:01,  1.37s/it, loss=3.92e+04]"
     ]
    },
    {
     "data": {
      "application/vnd.jupyter.widget-view+json": {
       "model_id": "504907a69b334b8fba7b122051e1eef2",
       "version_major": 2,
       "version_minor": 0
      },
      "text/html": [
       "<p>Failed to display Jupyter Widget of type <code>HBox</code>.</p>\n",
       "<p>\n",
       "  If you're reading this message in Jupyter Notebook or JupyterLab, it may mean\n",
       "  that the widgets JavaScript is still loading. If this message persists, it\n",
       "  likely means that the widgets JavaScript library is either not installed or\n",
       "  not enabled. See the <a href=\"https://ipywidgets.readthedocs.io/en/stable/user_install.html\">Jupyter\n",
       "  Widgets Documentation</a> for setup instructions.\n",
       "</p>\n",
       "<p>\n",
       "  If you're reading this message in another notebook frontend (for example, a static\n",
       "  rendering on GitHub or <a href=\"https://nbviewer.jupyter.org/\">NBViewer</a>),\n",
       "  it may mean that your frontend doesn't currently support widgets.\n",
       "</p>\n"
      ],
      "text/plain": [
       "HBox(children=(IntProgress(value=0, description='Training epoch 1', max=298), HTML(value='')))"
      ]
     },
     "metadata": {},
     "output_type": "display_data"
    },
    {
     "name": "stdout",
     "output_type": "stream",
     "text": [
      "297/|/100%|| 297/298 [08:06<00:01,  1.64s/it, loss=3e+04]04]"
     ]
    },
    {
     "data": {
      "application/vnd.jupyter.widget-view+json": {
       "model_id": "2e5a69f679b642a1a4389d4044e6c439",
       "version_major": 2,
       "version_minor": 0
      },
      "text/html": [
       "<p>Failed to display Jupyter Widget of type <code>HBox</code>.</p>\n",
       "<p>\n",
       "  If you're reading this message in Jupyter Notebook or JupyterLab, it may mean\n",
       "  that the widgets JavaScript is still loading. If this message persists, it\n",
       "  likely means that the widgets JavaScript library is either not installed or\n",
       "  not enabled. See the <a href=\"https://ipywidgets.readthedocs.io/en/stable/user_install.html\">Jupyter\n",
       "  Widgets Documentation</a> for setup instructions.\n",
       "</p>\n",
       "<p>\n",
       "  If you're reading this message in another notebook frontend (for example, a static\n",
       "  rendering on GitHub or <a href=\"https://nbviewer.jupyter.org/\">NBViewer</a>),\n",
       "  it may mean that your frontend doesn't currently support widgets.\n",
       "</p>\n"
      ],
      "text/plain": [
       "HBox(children=(IntProgress(value=0, description='Validation epoch 1', max=50), HTML(value='')))"
      ]
     },
     "metadata": {},
     "output_type": "display_data"
    },
    {
     "name": "stdout",
     "output_type": "stream",
     "text": [
      "49/|/ 98%|| 49/50 [01:07<00:01,  1.37s/it, loss=3.8e+04]]"
     ]
    },
    {
     "data": {
      "image/png": "[encoded data removed]",
      "text/plain": [
       "<matplotlib.figure.Figure at 0x7f83e5c8fe10>"
      ]
     },
     "metadata": {},
     "output_type": "display_data"
    }
   ],
   "source": [
    "# Train the neural network.\n",
    "learningRate = 1e-7\n",
    "set_momentum = 0.8\n",
    "decay = 1e-7\n",
    "\n",
    "gc.collect()\n",
    "\n",
    "network = SegNet(n_classes, pretrained=True)\n",
    "#criterion = CrossEntropyLoss2d(size_average=False, ignore_index=ignore_label)\n",
    "\n",
    "criterion = CrossEntropy2d(size_average=False)\n",
    "\n",
    "optimizer = optim.SGD(network.parameters(), lr = learningRate, momentum = set_momentum, weight_decay = decay)\n",
    "\n",
    "# Train the previously defined model.\n",
    "train_model(network, criterion, optimizer, trainLoader, valLoader, n_epochs = 2, use_gpu = True)\n",
    "\n",
    "# Plot loss and accuracy.\n",
    "ep = np.arange(1, 11, 1)\n",
    "plt.plot(ep, loss_train, 'ro',ep, loss_validate, 'bs')\n",
    "plt.xlabel('epoch')\n",
    "plt.ylabel('average loss')\n",
    "plt.legend(['training','validation'])\n",
    "plt.show()"
   ]
  },
  {
   "cell_type": "code",
   "execution_count": 30,
   "metadata": {},
   "outputs": [
    {
     "data": {
      "application/vnd.jupyter.widget-view+json": {
       "model_id": "5a70d1dbfc8941ada857f93558b548d4",
       "version_major": 2,
       "version_minor": 0
      },
      "text/html": [
       "<p>Failed to display Jupyter Widget of type <code>HBox</code>.</p>\n",
       "<p>\n",
       "  If you're reading this message in Jupyter Notebook or JupyterLab, it may mean\n",
       "  that the widgets JavaScript is still loading. If this message persists, it\n",
       "  likely means that the widgets JavaScript library is either not installed or\n",
       "  not enabled. See the <a href=\"https://ipywidgets.readthedocs.io/en/stable/user_install.html\">Jupyter\n",
       "  Widgets Documentation</a> for setup instructions.\n",
       "</p>\n",
       "<p>\n",
       "  If you're reading this message in another notebook frontend (for example, a static\n",
       "  rendering on GitHub or <a href=\"https://nbviewer.jupyter.org/\">NBViewer</a>),\n",
       "  it may mean that your frontend doesn't currently support widgets.\n",
       "</p>\n"
      ],
      "text/plain": [
       "HBox(children=(IntProgress(value=0, description='Training epoch 0', max=298), HTML(value='')))"
      ]
     },
     "metadata": {},
     "output_type": "display_data"
    },
    {
     "name": "stdout",
     "output_type": "stream",
     "text": [
      "0/|/  0%|| 0/298 [00:01<?, ?it/s, loss=5.98e+04]\n",
      "297/|/100%|| 297/298 [07:16<00:01,  1.47s/it, loss=1.49e+04]"
     ]
    },
    {
     "data": {
      "application/vnd.jupyter.widget-view+json": {
       "model_id": "74b6fef7c4614824b28a3be4c72d80a9",
       "version_major": 2,
       "version_minor": 0
      },
      "text/html": [
       "<p>Failed to display Jupyter Widget of type <code>HBox</code>.</p>\n",
       "<p>\n",
       "  If you're reading this message in Jupyter Notebook or JupyterLab, it may mean\n",
       "  that the widgets JavaScript is still loading. If this message persists, it\n",
       "  likely means that the widgets JavaScript library is either not installed or\n",
       "  not enabled. See the <a href=\"https://ipywidgets.readthedocs.io/en/stable/user_install.html\">Jupyter\n",
       "  Widgets Documentation</a> for setup instructions.\n",
       "</p>\n",
       "<p>\n",
       "  If you're reading this message in another notebook frontend (for example, a static\n",
       "  rendering on GitHub or <a href=\"https://nbviewer.jupyter.org/\">NBViewer</a>),\n",
       "  it may mean that your frontend doesn't currently support widgets.\n",
       "</p>\n"
      ],
      "text/plain": [
       "HBox(children=(IntProgress(value=0, description='Validation epoch 0', max=50), HTML(value='')))"
      ]
     },
     "metadata": {},
     "output_type": "display_data"
    },
    {
     "name": "stdout",
     "output_type": "stream",
     "text": [
      "49/|/ 98%|| 49/50 [01:04<00:01,  1.31s/it, loss=6.76e+03]"
     ]
    },
    {
     "data": {
      "application/vnd.jupyter.widget-view+json": {
       "model_id": "4b32d75ad7f347c5a1f6c95568414a69",
       "version_major": 2,
       "version_minor": 0
      },
      "text/html": [
       "<p>Failed to display Jupyter Widget of type <code>HBox</code>.</p>\n",
       "<p>\n",
       "  If you're reading this message in Jupyter Notebook or JupyterLab, it may mean\n",
       "  that the widgets JavaScript is still loading. If this message persists, it\n",
       "  likely means that the widgets JavaScript library is either not installed or\n",
       "  not enabled. See the <a href=\"https://ipywidgets.readthedocs.io/en/stable/user_install.html\">Jupyter\n",
       "  Widgets Documentation</a> for setup instructions.\n",
       "</p>\n",
       "<p>\n",
       "  If you're reading this message in another notebook frontend (for example, a static\n",
       "  rendering on GitHub or <a href=\"https://nbviewer.jupyter.org/\">NBViewer</a>),\n",
       "  it may mean that your frontend doesn't currently support widgets.\n",
       "</p>\n"
      ],
      "text/plain": [
       "HBox(children=(IntProgress(value=0, description='Training epoch 1', max=298), HTML(value='')))"
      ]
     },
     "metadata": {},
     "output_type": "display_data"
    },
    {
     "name": "stdout",
     "output_type": "stream",
     "text": [
      "297/|/100%|| 297/298 [07:14<00:01,  1.46s/it, loss=6.49e+03]"
     ]
    },
    {
     "data": {
      "application/vnd.jupyter.widget-view+json": {
       "model_id": "bbd04a6dabeb4a52a5883c855ff1c6f4",
       "version_major": 2,
       "version_minor": 0
      },
      "text/html": [
       "<p>Failed to display Jupyter Widget of type <code>HBox</code>.</p>\n",
       "<p>\n",
       "  If you're reading this message in Jupyter Notebook or JupyterLab, it may mean\n",
       "  that the widgets JavaScript is still loading. If this message persists, it\n",
       "  likely means that the widgets JavaScript library is either not installed or\n",
       "  not enabled. See the <a href=\"https://ipywidgets.readthedocs.io/en/stable/user_install.html\">Jupyter\n",
       "  Widgets Documentation</a> for setup instructions.\n",
       "</p>\n",
       "<p>\n",
       "  If you're reading this message in another notebook frontend (for example, a static\n",
       "  rendering on GitHub or <a href=\"https://nbviewer.jupyter.org/\">NBViewer</a>),\n",
       "  it may mean that your frontend doesn't currently support widgets.\n",
       "</p>\n"
      ],
      "text/plain": [
       "HBox(children=(IntProgress(value=0, description='Validation epoch 1', max=50), HTML(value='')))"
      ]
     },
     "metadata": {},
     "output_type": "display_data"
    },
    {
     "name": "stdout",
     "output_type": "stream",
     "text": [
      "49/|/ 98%|| 49/50 [01:04<00:01,  1.31s/it, loss=5.73e+03]"
     ]
    },
    {
     "data": {
      "image/png": "[encoded data removed]",
      "text/plain": [
       "<matplotlib.figure.Figure at 0x7f83e3e49748>"
      ]
     },
     "metadata": {},
     "output_type": "display_data"
    }
   ],
   "source": [
    "# Train another network\n",
    "learningRate = 1e-6\n",
    "set_momentum = 0.8\n",
    "decay = 1e-6\n",
    "\n",
    "gc.collect()\n",
    "\n",
    "network2 = segnet2()\n",
    "criterion = CrossEntropy2d(size_average=False)\n",
    "optimizer = optim.SGD(network2.parameters(), lr = learningRate, momentum = set_momentum, weight_decay = decay)\n",
    "\n",
    "# Train the previously defined model.\n",
    "train_model(network2, criterion, optimizer, trainLoader, valLoader, n_epochs = 2, use_gpu = True)\n",
    "\n",
    "# Plot loss and accuracy.\n",
    "ep = np.arange(1, 11, 1)\n",
    "plt.plot(ep, loss_train, 'ro',ep, loss_validate, 'bs')\n",
    "plt.xlabel('epoch')\n",
    "plt.ylabel('average loss')\n",
    "plt.legend(['training','validation'])\n",
    "plt.show()"
   ]
  },
  {
   "cell_type": "code",
   "execution_count": 39,
   "metadata": {},
   "outputs": [
    {
     "data": {
      "application/vnd.jupyter.widget-view+json": {
       "model_id": "e08eb06f59f14401bf7c4e7aaad0b3f9",
       "version_major": 2,
       "version_minor": 0
      },
      "text/html": [
       "<p>Failed to display Jupyter Widget of type <code>HBox</code>.</p>\n",
       "<p>\n",
       "  If you're reading this message in Jupyter Notebook or JupyterLab, it may mean\n",
       "  that the widgets JavaScript is still loading. If this message persists, it\n",
       "  likely means that the widgets JavaScript library is either not installed or\n",
       "  not enabled. See the <a href=\"https://ipywidgets.readthedocs.io/en/stable/user_install.html\">Jupyter\n",
       "  Widgets Documentation</a> for setup instructions.\n",
       "</p>\n",
       "<p>\n",
       "  If you're reading this message in another notebook frontend (for example, a static\n",
       "  rendering on GitHub or <a href=\"https://nbviewer.jupyter.org/\">NBViewer</a>),\n",
       "  it may mean that your frontend doesn't currently support widgets.\n",
       "</p>\n"
      ],
      "text/plain": [
       "HBox(children=(IntProgress(value=0, description='Training epoch 0', max=298), HTML(value='')))"
      ]
     },
     "metadata": {},
     "output_type": "display_data"
    },
    {
     "name": "stdout",
     "output_type": "stream",
     "text": [
      "\n",
      "46/|/ 15%|| 46/298 [01:07<06:09,  1.47s/it, loss=5.92e+03]"
     ]
    },
    {
     "ename": "KeyboardInterrupt",
     "evalue": "",
     "output_type": "error",
     "traceback": [
      "\u001b[0;31m---------------------------------------------------------------------------\u001b[0m",
      "\u001b[0;31mKeyboardInterrupt\u001b[0m                         Traceback (most recent call last)",
      "\u001b[0;32m<ipython-input-39-7dbde6f7d200>\u001b[0m in \u001b[0;36m<module>\u001b[0;34m()\u001b[0m\n\u001b[1;32m      4\u001b[0m \u001b[0;34m\u001b[0m\u001b[0m\n\u001b[1;32m      5\u001b[0m \u001b[0;31m# For more training iterations.\u001b[0m\u001b[0;34m\u001b[0m\u001b[0;34m\u001b[0m\u001b[0m\n\u001b[0;32m----> 6\u001b[0;31m \u001b[0mtrain_model\u001b[0m\u001b[0;34m(\u001b[0m\u001b[0mnetwork2\u001b[0m\u001b[0;34m,\u001b[0m \u001b[0mcriterion\u001b[0m\u001b[0;34m,\u001b[0m \u001b[0moptimizer\u001b[0m\u001b[0;34m,\u001b[0m \u001b[0mtrainLoader\u001b[0m\u001b[0;34m,\u001b[0m \u001b[0mvalLoader\u001b[0m\u001b[0;34m,\u001b[0m \u001b[0mn_epochs\u001b[0m \u001b[0;34m=\u001b[0m \u001b[0;36m2\u001b[0m\u001b[0;34m,\u001b[0m \u001b[0muse_gpu\u001b[0m \u001b[0;34m=\u001b[0m \u001b[0;32mTrue\u001b[0m\u001b[0;34m)\u001b[0m\u001b[0;34m\u001b[0m\u001b[0m\n\u001b[0m\u001b[1;32m      7\u001b[0m \u001b[0;34m\u001b[0m\u001b[0m\n\u001b[1;32m      8\u001b[0m \u001b[0;31m# Plot loss and accuracy.\u001b[0m\u001b[0;34m\u001b[0m\u001b[0;34m\u001b[0m\u001b[0m\n",
      "\u001b[0;32m<ipython-input-15-e5e247cd0711>\u001b[0m in \u001b[0;36mtrain_model\u001b[0;34m(network, criterion, optimizer, trainLoader, valLoader, n_epochs, use_gpu)\u001b[0m\n\u001b[1;32m     53\u001b[0m         \u001b[0mt\u001b[0m \u001b[0;34m=\u001b[0m \u001b[0mtqdm\u001b[0m\u001b[0;34m(\u001b[0m\u001b[0mtrainLoader\u001b[0m\u001b[0;34m,\u001b[0m \u001b[0mdesc\u001b[0m \u001b[0;34m=\u001b[0m \u001b[0;34m'Training epoch %d'\u001b[0m \u001b[0;34m%\u001b[0m \u001b[0mepoch\u001b[0m\u001b[0;34m)\u001b[0m\u001b[0;34m\u001b[0m\u001b[0m\n\u001b[1;32m     54\u001b[0m         \u001b[0mnetwork\u001b[0m\u001b[0;34m.\u001b[0m\u001b[0mtrain\u001b[0m\u001b[0;34m(\u001b[0m\u001b[0;34m)\u001b[0m  \u001b[0;31m# This is important to call before training!\u001b[0m\u001b[0;34m\u001b[0m\u001b[0m\n\u001b[0;32m---> 55\u001b[0;31m         \u001b[0;32mfor\u001b[0m \u001b[0;34m(\u001b[0m\u001b[0mi\u001b[0m\u001b[0;34m,\u001b[0m \u001b[0;34m(\u001b[0m\u001b[0minputs\u001b[0m\u001b[0;34m,\u001b[0m \u001b[0mlabels\u001b[0m\u001b[0;34m)\u001b[0m\u001b[0;34m)\u001b[0m \u001b[0;32min\u001b[0m \u001b[0menumerate\u001b[0m\u001b[0;34m(\u001b[0m\u001b[0mt\u001b[0m\u001b[0;34m)\u001b[0m\u001b[0;34m:\u001b[0m\u001b[0;34m\u001b[0m\u001b[0m\n\u001b[0m\u001b[1;32m     56\u001b[0m \u001b[0;34m\u001b[0m\u001b[0m\n\u001b[1;32m     57\u001b[0m             \u001b[0mgc\u001b[0m\u001b[0;34m.\u001b[0m\u001b[0mcollect\u001b[0m\u001b[0;34m(\u001b[0m\u001b[0;34m)\u001b[0m\u001b[0;34m\u001b[0m\u001b[0m\n",
      "\u001b[0;32m/usr/local/lib/python3.5/dist-packages/tqdm/_tqdm_notebook.py\u001b[0m in \u001b[0;36m__iter__\u001b[0;34m(self, *args, **kwargs)\u001b[0m\n\u001b[1;32m    190\u001b[0m     \u001b[0;32mdef\u001b[0m \u001b[0m__iter__\u001b[0m\u001b[0;34m(\u001b[0m\u001b[0mself\u001b[0m\u001b[0;34m,\u001b[0m \u001b[0;34m*\u001b[0m\u001b[0margs\u001b[0m\u001b[0;34m,\u001b[0m \u001b[0;34m**\u001b[0m\u001b[0mkwargs\u001b[0m\u001b[0;34m)\u001b[0m\u001b[0;34m:\u001b[0m\u001b[0;34m\u001b[0m\u001b[0m\n\u001b[1;32m    191\u001b[0m         \u001b[0;32mtry\u001b[0m\u001b[0;34m:\u001b[0m\u001b[0;34m\u001b[0m\u001b[0m\n\u001b[0;32m--> 192\u001b[0;31m             \u001b[0;32mfor\u001b[0m \u001b[0mobj\u001b[0m \u001b[0;32min\u001b[0m \u001b[0msuper\u001b[0m\u001b[0;34m(\u001b[0m\u001b[0mtqdm_notebook\u001b[0m\u001b[0;34m,\u001b[0m \u001b[0mself\u001b[0m\u001b[0;34m)\u001b[0m\u001b[0;34m.\u001b[0m\u001b[0m__iter__\u001b[0m\u001b[0;34m(\u001b[0m\u001b[0;34m*\u001b[0m\u001b[0margs\u001b[0m\u001b[0;34m,\u001b[0m \u001b[0;34m**\u001b[0m\u001b[0mkwargs\u001b[0m\u001b[0;34m)\u001b[0m\u001b[0;34m:\u001b[0m\u001b[0;34m\u001b[0m\u001b[0m\n\u001b[0m\u001b[1;32m    193\u001b[0m                 \u001b[0;31m# return super(tqdm...) will not catch exception\u001b[0m\u001b[0;34m\u001b[0m\u001b[0;34m\u001b[0m\u001b[0m\n\u001b[1;32m    194\u001b[0m                 \u001b[0;32myield\u001b[0m \u001b[0mobj\u001b[0m\u001b[0;34m\u001b[0m\u001b[0m\n",
      "\u001b[0;32m/usr/local/lib/python3.5/dist-packages/tqdm/_tqdm.py\u001b[0m in \u001b[0;36m__iter__\u001b[0;34m(self)\u001b[0m\n\u001b[1;32m    903\u001b[0m \"\"\", fp_write=getattr(self.fp, 'write', sys.stderr.write))\n\u001b[1;32m    904\u001b[0m \u001b[0;34m\u001b[0m\u001b[0m\n\u001b[0;32m--> 905\u001b[0;31m             \u001b[0;32mfor\u001b[0m \u001b[0mobj\u001b[0m \u001b[0;32min\u001b[0m \u001b[0miterable\u001b[0m\u001b[0;34m:\u001b[0m\u001b[0;34m\u001b[0m\u001b[0m\n\u001b[0m\u001b[1;32m    906\u001b[0m                 \u001b[0;32myield\u001b[0m \u001b[0mobj\u001b[0m\u001b[0;34m\u001b[0m\u001b[0m\n\u001b[1;32m    907\u001b[0m                 \u001b[0;31m# Update and possibly print the progressbar.\u001b[0m\u001b[0;34m\u001b[0m\u001b[0;34m\u001b[0m\u001b[0m\n",
      "\u001b[0;32m/usr/local/lib/python3.5/dist-packages/torch/utils/data/dataloader.py\u001b[0m in \u001b[0;36m__next__\u001b[0;34m(self)\u001b[0m\n\u001b[1;32m    177\u001b[0m         \u001b[0;32mif\u001b[0m \u001b[0mself\u001b[0m\u001b[0;34m.\u001b[0m\u001b[0mnum_workers\u001b[0m \u001b[0;34m==\u001b[0m \u001b[0;36m0\u001b[0m\u001b[0;34m:\u001b[0m  \u001b[0;31m# same-process loading\u001b[0m\u001b[0;34m\u001b[0m\u001b[0m\n\u001b[1;32m    178\u001b[0m             \u001b[0mindices\u001b[0m \u001b[0;34m=\u001b[0m \u001b[0mnext\u001b[0m\u001b[0;34m(\u001b[0m\u001b[0mself\u001b[0m\u001b[0;34m.\u001b[0m\u001b[0msample_iter\u001b[0m\u001b[0;34m)\u001b[0m  \u001b[0;31m# may raise StopIteration\u001b[0m\u001b[0;34m\u001b[0m\u001b[0m\n\u001b[0;32m--> 179\u001b[0;31m             \u001b[0mbatch\u001b[0m \u001b[0;34m=\u001b[0m \u001b[0mself\u001b[0m\u001b[0;34m.\u001b[0m\u001b[0mcollate_fn\u001b[0m\u001b[0;34m(\u001b[0m\u001b[0;34m[\u001b[0m\u001b[0mself\u001b[0m\u001b[0;34m.\u001b[0m\u001b[0mdataset\u001b[0m\u001b[0;34m[\u001b[0m\u001b[0mi\u001b[0m\u001b[0;34m]\u001b[0m \u001b[0;32mfor\u001b[0m \u001b[0mi\u001b[0m \u001b[0;32min\u001b[0m \u001b[0mindices\u001b[0m\u001b[0;34m]\u001b[0m\u001b[0;34m)\u001b[0m\u001b[0;34m\u001b[0m\u001b[0m\n\u001b[0m\u001b[1;32m    180\u001b[0m             \u001b[0;32mif\u001b[0m \u001b[0mself\u001b[0m\u001b[0;34m.\u001b[0m\u001b[0mpin_memory\u001b[0m\u001b[0;34m:\u001b[0m\u001b[0;34m\u001b[0m\u001b[0m\n\u001b[1;32m    181\u001b[0m                 \u001b[0mbatch\u001b[0m \u001b[0;34m=\u001b[0m \u001b[0mpin_memory_batch\u001b[0m\u001b[0;34m(\u001b[0m\u001b[0mbatch\u001b[0m\u001b[0;34m)\u001b[0m\u001b[0;34m\u001b[0m\u001b[0m\n",
      "\u001b[0;32m/usr/local/lib/python3.5/dist-packages/torch/utils/data/dataloader.py\u001b[0m in \u001b[0;36m<listcomp>\u001b[0;34m(.0)\u001b[0m\n\u001b[1;32m    177\u001b[0m         \u001b[0;32mif\u001b[0m \u001b[0mself\u001b[0m\u001b[0;34m.\u001b[0m\u001b[0mnum_workers\u001b[0m \u001b[0;34m==\u001b[0m \u001b[0;36m0\u001b[0m\u001b[0;34m:\u001b[0m  \u001b[0;31m# same-process loading\u001b[0m\u001b[0;34m\u001b[0m\u001b[0m\n\u001b[1;32m    178\u001b[0m             \u001b[0mindices\u001b[0m \u001b[0;34m=\u001b[0m \u001b[0mnext\u001b[0m\u001b[0;34m(\u001b[0m\u001b[0mself\u001b[0m\u001b[0;34m.\u001b[0m\u001b[0msample_iter\u001b[0m\u001b[0;34m)\u001b[0m  \u001b[0;31m# may raise StopIteration\u001b[0m\u001b[0;34m\u001b[0m\u001b[0m\n\u001b[0;32m--> 179\u001b[0;31m             \u001b[0mbatch\u001b[0m \u001b[0;34m=\u001b[0m \u001b[0mself\u001b[0m\u001b[0;34m.\u001b[0m\u001b[0mcollate_fn\u001b[0m\u001b[0;34m(\u001b[0m\u001b[0;34m[\u001b[0m\u001b[0mself\u001b[0m\u001b[0;34m.\u001b[0m\u001b[0mdataset\u001b[0m\u001b[0;34m[\u001b[0m\u001b[0mi\u001b[0m\u001b[0;34m]\u001b[0m \u001b[0;32mfor\u001b[0m \u001b[0mi\u001b[0m \u001b[0;32min\u001b[0m \u001b[0mindices\u001b[0m\u001b[0;34m]\u001b[0m\u001b[0;34m)\u001b[0m\u001b[0;34m\u001b[0m\u001b[0m\n\u001b[0m\u001b[1;32m    180\u001b[0m             \u001b[0;32mif\u001b[0m \u001b[0mself\u001b[0m\u001b[0;34m.\u001b[0m\u001b[0mpin_memory\u001b[0m\u001b[0;34m:\u001b[0m\u001b[0;34m\u001b[0m\u001b[0m\n\u001b[1;32m    181\u001b[0m                 \u001b[0mbatch\u001b[0m \u001b[0;34m=\u001b[0m \u001b[0mpin_memory_batch\u001b[0m\u001b[0;34m(\u001b[0m\u001b[0mbatch\u001b[0m\u001b[0;34m)\u001b[0m\u001b[0;34m\u001b[0m\u001b[0m\n",
      "\u001b[0;32m<ipython-input-2-8093f2afa585>\u001b[0m in \u001b[0;36m__getitem__\u001b[0;34m(self, index)\u001b[0m\n\u001b[1;32m     38\u001b[0m     \u001b[0;32mdef\u001b[0m \u001b[0m__getitem__\u001b[0m\u001b[0;34m(\u001b[0m\u001b[0mself\u001b[0m\u001b[0;34m,\u001b[0m \u001b[0mindex\u001b[0m\u001b[0;34m)\u001b[0m\u001b[0;34m:\u001b[0m\u001b[0;34m\u001b[0m\u001b[0m\n\u001b[1;32m     39\u001b[0m         \u001b[0mimg_path\u001b[0m\u001b[0;34m,\u001b[0m \u001b[0mmask_path\u001b[0m \u001b[0;34m=\u001b[0m \u001b[0mself\u001b[0m\u001b[0;34m.\u001b[0m\u001b[0mimgs\u001b[0m\u001b[0;34m[\u001b[0m\u001b[0mindex\u001b[0m\u001b[0;34m]\u001b[0m\u001b[0;34m\u001b[0m\u001b[0m\n\u001b[0;32m---> 40\u001b[0;31m         \u001b[0mimg\u001b[0m\u001b[0;34m,\u001b[0m \u001b[0mmask\u001b[0m \u001b[0;34m=\u001b[0m \u001b[0mImage\u001b[0m\u001b[0;34m.\u001b[0m\u001b[0mopen\u001b[0m\u001b[0;34m(\u001b[0m\u001b[0mimg_path\u001b[0m\u001b[0;34m)\u001b[0m\u001b[0;34m.\u001b[0m\u001b[0mconvert\u001b[0m\u001b[0;34m(\u001b[0m\u001b[0;34m'RGB'\u001b[0m\u001b[0;34m)\u001b[0m\u001b[0;34m,\u001b[0m \u001b[0mImage\u001b[0m\u001b[0;34m.\u001b[0m\u001b[0mopen\u001b[0m\u001b[0;34m(\u001b[0m\u001b[0mmask_path\u001b[0m\u001b[0;34m)\u001b[0m\u001b[0;34m\u001b[0m\u001b[0m\n\u001b[0m\u001b[1;32m     41\u001b[0m \u001b[0;34m\u001b[0m\u001b[0m\n\u001b[1;32m     42\u001b[0m         \u001b[0mmask\u001b[0m \u001b[0;34m=\u001b[0m \u001b[0mnp\u001b[0m\u001b[0;34m.\u001b[0m\u001b[0marray\u001b[0m\u001b[0;34m(\u001b[0m\u001b[0mmask\u001b[0m\u001b[0;34m)\u001b[0m\u001b[0;34m\u001b[0m\u001b[0m\n",
      "\u001b[0;32m/usr/local/lib/python3.5/dist-packages/PIL/Image.py\u001b[0m in \u001b[0;36mconvert\u001b[0;34m(self, mode, matrix, dither, palette, colors)\u001b[0m\n\u001b[1;32m    873\u001b[0m         \"\"\"\n\u001b[1;32m    874\u001b[0m \u001b[0;34m\u001b[0m\u001b[0m\n\u001b[0;32m--> 875\u001b[0;31m         \u001b[0mself\u001b[0m\u001b[0;34m.\u001b[0m\u001b[0mload\u001b[0m\u001b[0;34m(\u001b[0m\u001b[0;34m)\u001b[0m\u001b[0;34m\u001b[0m\u001b[0m\n\u001b[0m\u001b[1;32m    876\u001b[0m \u001b[0;34m\u001b[0m\u001b[0m\n\u001b[1;32m    877\u001b[0m         \u001b[0;32mif\u001b[0m \u001b[0;32mnot\u001b[0m \u001b[0mmode\u001b[0m \u001b[0;32mand\u001b[0m \u001b[0mself\u001b[0m\u001b[0;34m.\u001b[0m\u001b[0mmode\u001b[0m \u001b[0;34m==\u001b[0m \u001b[0;34m\"P\"\u001b[0m\u001b[0;34m:\u001b[0m\u001b[0;34m\u001b[0m\u001b[0m\n",
      "\u001b[0;32m/usr/local/lib/python3.5/dist-packages/PIL/ImageFile.py\u001b[0m in \u001b[0;36mload\u001b[0;34m(self)\u001b[0m\n\u001b[1;32m    212\u001b[0m                     \u001b[0;32mwhile\u001b[0m \u001b[0;32mTrue\u001b[0m\u001b[0;34m:\u001b[0m\u001b[0;34m\u001b[0m\u001b[0m\n\u001b[1;32m    213\u001b[0m                         \u001b[0;32mtry\u001b[0m\u001b[0;34m:\u001b[0m\u001b[0;34m\u001b[0m\u001b[0m\n\u001b[0;32m--> 214\u001b[0;31m                             \u001b[0ms\u001b[0m \u001b[0;34m=\u001b[0m \u001b[0mread\u001b[0m\u001b[0;34m(\u001b[0m\u001b[0mself\u001b[0m\u001b[0;34m.\u001b[0m\u001b[0mdecodermaxblock\u001b[0m\u001b[0;34m)\u001b[0m\u001b[0;34m\u001b[0m\u001b[0m\n\u001b[0m\u001b[1;32m    215\u001b[0m                         \u001b[0;32mexcept\u001b[0m \u001b[0;34m(\u001b[0m\u001b[0mIndexError\u001b[0m\u001b[0;34m,\u001b[0m \u001b[0mstruct\u001b[0m\u001b[0;34m.\u001b[0m\u001b[0merror\u001b[0m\u001b[0;34m)\u001b[0m\u001b[0;34m:\u001b[0m  \u001b[0;31m# truncated png/gif\u001b[0m\u001b[0;34m\u001b[0m\u001b[0m\n\u001b[1;32m    216\u001b[0m                             \u001b[0;32mif\u001b[0m \u001b[0mLOAD_TRUNCATED_IMAGES\u001b[0m\u001b[0;34m:\u001b[0m\u001b[0;34m\u001b[0m\u001b[0m\n",
      "\u001b[0;32m/usr/local/lib/python3.5/dist-packages/PIL/PngImagePlugin.py\u001b[0m in \u001b[0;36mload_read\u001b[0;34m(self, read_bytes)\u001b[0m\n\u001b[1;32m    607\u001b[0m         \u001b[0mself\u001b[0m\u001b[0;34m.\u001b[0m\u001b[0m__idat\u001b[0m \u001b[0;34m=\u001b[0m \u001b[0mself\u001b[0m\u001b[0;34m.\u001b[0m\u001b[0m__idat\u001b[0m \u001b[0;34m-\u001b[0m \u001b[0mread_bytes\u001b[0m\u001b[0;34m\u001b[0m\u001b[0m\n\u001b[1;32m    608\u001b[0m \u001b[0;34m\u001b[0m\u001b[0m\n\u001b[0;32m--> 609\u001b[0;31m         \u001b[0;32mreturn\u001b[0m \u001b[0mself\u001b[0m\u001b[0;34m.\u001b[0m\u001b[0mfp\u001b[0m\u001b[0;34m.\u001b[0m\u001b[0mread\u001b[0m\u001b[0;34m(\u001b[0m\u001b[0mread_bytes\u001b[0m\u001b[0;34m)\u001b[0m\u001b[0;34m\u001b[0m\u001b[0m\n\u001b[0m\u001b[1;32m    610\u001b[0m \u001b[0;34m\u001b[0m\u001b[0m\n\u001b[1;32m    611\u001b[0m     \u001b[0;32mdef\u001b[0m \u001b[0mload_end\u001b[0m\u001b[0;34m(\u001b[0m\u001b[0mself\u001b[0m\u001b[0;34m)\u001b[0m\u001b[0;34m:\u001b[0m\u001b[0;34m\u001b[0m\u001b[0m\n",
      "\u001b[0;31mKeyboardInterrupt\u001b[0m: "
     ]
    }
   ],
   "source": [
    "learningRate = 1e-7\n",
    "set_momentum = 0.8\n",
    "decay = 1e-6\n",
    "\n",
    "# For more training iterations.\n",
    "train_model(network2, criterion, optimizer, trainLoader, valLoader, n_epochs = 2, use_gpu = True)\n",
    "\n",
    "# Plot loss and accuracy.\n",
    "ep = np.arange(1, 11, 1)\n",
    "plt.plot(ep, loss_train, 'ro',ep, loss_validate, 'bs')\n",
    "plt.xlabel('epoch')\n",
    "plt.ylabel('average loss')\n",
    "plt.legend(['training','validation'])\n",
    "plt.show()"
   ]
  },
  {
   "cell_type": "code",
   "execution_count": 44,
   "metadata": {},
   "outputs": [
    {
     "data": {
      "image/png": "[encoded data removed]",
      "text/plain": [
       "<IPython.core.display.Image object>"
      ]
     },
     "metadata": {},
     "output_type": "display_data"
    },
    {
     "data": {
      "image/png": "[encoded data removed]",
      "text/plain": [
       "<IPython.core.display.Image object>"
      ]
     },
     "metadata": {},
     "output_type": "display_data"
    },
    {
     "name": "stdout",
     "output_type": "stream",
     "text": [
      "[[ 1  1 17 ...,  0  0  8]\n",
      " [ 7  1  0 ...,  1  0  0]\n",
      " [ 0 18  1 ...,  4 10 10]\n",
      " ..., \n",
      " [ 7  1  7 ...,  3  1  0]\n",
      " [14  1  1 ..., 10  4  1]\n",
      " [ 6  0  1 ...,  1  1  1]]\n"
     ]
    },
    {
     "data": {
      "image/png": "[encoded data removed]",
      "text/plain": [
       "<IPython.core.display.Image object>"
      ]
     },
     "metadata": {},
     "output_type": "display_data"
    }
   ],
   "source": [
    "def pred_demo(network,image):\n",
    "    network.eval()\n",
    "    image = image.view(1,image.size(0),image.size(1), image.size(2))\n",
    "    inputVar =  Variable(image,volatile=True).cuda()\n",
    "    predictions = network(inputVar)\n",
    "    #predictions = -F.log_softmax(predictions)\n",
    "    #print(predictions)\n",
    "    predictions = predictions.data.squeeze().max(0)[1].cpu().numpy()\n",
    "    print(predictions)\n",
    "    predictions = colorize_mask(predictions)\n",
    "    lab_utils.show_image(predictions)\n",
    "    \n",
    "\n",
    "\"\"\"\n",
    "testset = CityScapes(mode = 'test', root = 'dataset', transform = imgTransform,\n",
    "                    target_transform = target_transform)\n",
    "testLoader = torch.utils.data.DataLoader(testset, batch_size = 1, shuffle = False, num_workers = 0)\n",
    "\"\"\"\n",
    "\n",
    "network = network.cuda()\n",
    "#image1 = Image.open('data/valset/cat.41.jpg').convert('RGB')\n",
    "\n",
    "img, mask = trainset[30]\n",
    "lab_utils.show_image(restore_transform(img));\n",
    "lab_utils.show_image(colorize_mask(np.array(lab_utils.tensor2pil(mask))));\n",
    "\n",
    "pred_demo(network,img)"
   ]
  },
  {
   "cell_type": "code",
   "execution_count": 412,
   "metadata": {},
   "outputs": [
    {
     "data": {
      "text/plain": [
       "0"
      ]
     },
     "execution_count": 412,
     "metadata": {},
     "output_type": "execute_result"
    }
   ],
   "source": [
    "gc.collect()"
   ]
  },
  {
   "cell_type": "code",
   "execution_count": null,
   "metadata": {},
   "outputs": [],
   "source": []
  }
 ],
 "metadata": {
  "kernelspec": {
   "display_name": "Python 3",
   "language": "python",
   "name": "python3"
  },
  "language_info": {
   "codemirror_mode": {
    "name": "ipython",
    "version": 3
   },
   "file_extension": ".py",
   "mimetype": "text/x-python",
   "name": "python",
   "nbconvert_exporter": "python",
   "pygments_lexer": "ipython3",
   "version": "3.5.2"
  }
 },
 "nbformat": 4,
 "nbformat_minor": 2
}
